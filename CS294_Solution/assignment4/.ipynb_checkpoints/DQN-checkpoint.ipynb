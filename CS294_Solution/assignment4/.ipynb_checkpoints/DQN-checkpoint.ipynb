{
 "cells": [
  {
   "cell_type": "markdown",
   "metadata": {},
   "source": [
    "# Deep Q-Learning\n",
    "\n",
    "In this notebook, you will implement a deep Q-Learning reinforcement algorithm. The implementation borrows ideas from both the original DeepMind Nature paper and the more recent asynchronous version:<br/>\n",
    "[1] \"Human-Level Control through Deep Reinforcement Learning\" by Mnih et al. 2015<br/>\n",
    "[2] \"Asynchronous Methods for Deep Reinforcement Learning\" by Mnih et al. 2016.<br/>\n",
    "\n",
    "In particular:\n",
    "* We use separate target and Q-functions estimators with periodic updates to the target estimator. \n",
    "* We use several concurrent \"threads\" rather than experience replay to generate less biased gradient updates. \n",
    "* Threads are actually synchronized so we start each one at a random number of moves.\n",
    "* We use an epsilon-greedy policy that blends random moves with policy moves.\n",
    "* We taper the random action parameter (epsilon) and the learning rate to zero during training.\n",
    "\n",
    "This gives a simple and reasonably fast general-purpose RL algorithm. We use it here for the Cartpole environment from OpenAI Gym, but it can easily be adapted to others. For this notebook, you will implement 4 steps:\n",
    "\n",
    "1. The backward step for the Q-estimator\n",
    "2. The $\\epsilon$-greedy policy\n",
    "3. \"asynchronous\" initialization \n",
    "4. The Q-learning algorithm\n",
    "\n",
    "To get started, we import some prerequisites."
   ]
  },
  {
   "cell_type": "code",
   "execution_count": 31,
   "metadata": {
    "collapsed": false
   },
   "outputs": [],
   "source": [
    "%matplotlib inline\n",
    "\n",
    "import gym\n",
    "import numpy as np\n",
    "import sys\n",
    "import matplotlib.pyplot as plt\n",
    "import time\n",
    "import pickle"
   ]
  },
  {
   "cell_type": "markdown",
   "metadata": {},
   "source": [
    "The block below lists some parameters you can tune. They should be self-explanatory. They are currently set to train CartPole-V0 to a \"solved\" score (> 195) most of the time. "
   ]
  },
  {
   "cell_type": "code",
   "execution_count": 32,
   "metadata": {
    "collapsed": false
   },
   "outputs": [],
   "source": [
    "nsteps = 10001                       # Number of steps to run (game actions per environment)\n",
    "npar = 16                            # Number of parallel environments\n",
    "target_window = 200                  # Interval to update target estimator from q-estimator\n",
    "discount_factor = 0.99               # Reward discount factor\n",
    "printsteps = 1000                    # Number of steps between printouts\n",
    "render = False                       # Whether to render an environment while training\n",
    "\n",
    "epsilon_start = 1.0                  # Parameters for epsilon-greedy policy: initial epsilon\n",
    "epsilon_end = 0.0                    # Final epsilon\n",
    "neps = int(0.8*nsteps)               # Number of steps to decay epsilon\n",
    "\n",
    "learning_rate = 2e-3                 # Initial learning rate\n",
    "lr_end = 0                           # Final learning rate\n",
    "nlr = neps                           # Steps to decay learning rate\n",
    "decay_rate = 0.99                    # Decay factor for RMSProp \n",
    "\n",
    "nhidden = 200                        # Number of hidden layers for estimators\n",
    "\n",
    "init_moves = 2000                    # Upper bound on random number of moves to take initially\n",
    "nwindow = 2                          # Sensing window = last n images in a state"
   ]
  },
  {
   "cell_type": "markdown",
   "metadata": {},
   "source": [
    "Below are environment-specific parameters. The function \"preprocess\" should process an observation returned by the environment into a vector for training. For CartPole we simply append a 1 to implement bias in the first layer. \n",
    "\n",
    "For visual environments you would typically crop, downsample to 80x80, set color to a single bit (foreground/background), and flatten to a vector. That transformation is already implemented in the Policy Gradient code.\n",
    "\n",
    "*nfeats* is the dimension of the vector output by *preprocess*."
   ]
  },
  {
   "cell_type": "code",
   "execution_count": 33,
   "metadata": {
    "collapsed": true
   },
   "outputs": [],
   "source": [
    "game_type=\"CartPole-v0\"                 # Model type and action definitions\n",
    "VALID_ACTIONS = [0, 1]\n",
    "nactions = len(VALID_ACTIONS)\n",
    "nfeats = 5                              # There are four state features plus the constant we add\n",
    "\n",
    "def preprocess(I):                      # preprocess each observation\n",
    "    \"\"\"Just append a 1 to the end\"\"\"\n",
    "    return np.append(I.astype(float),1) # Add a constant feature for bias"
   ]
  },
  {
   "cell_type": "markdown",
   "metadata": {},
   "source": [
    "Here is the Q-estimator class. We use two instances of this class, one for the target estimator, and one for the Q-estimator. The Q function is normally represented as a scalar $Q(x,a)$ where $x$ is the state and $a$ is an action. For ease of implementation, we actually estimate a vector-valued function $Q(x,.)$ which returns the estimated reward for every action. The model here has just a single hidden layer:\n",
    "\n",
    "<pre>\n",
    "Input Layer (nfeats) => FC Layer => RELU => FC Layer => Output (naction values)\n",
    "</pre>\n",
    "\n",
    "## 1. Implement Q-estimator gradient\n",
    "Your first task is to implement the\n",
    "<pre>Estimator.gradient(s, a, y)</pre>\n",
    "method for this class. **gradient** should compute the gradients wrt weight arrays W1 and W2 into\n",
    "<pre>self.grad['W1']\n",
    "self.grad['W2']</pre>\n",
    "respectively. Both <code>a</code> and <code>y</code> are vectors. Be sure to update only the output layer weights corresponding to the given action vector. "
   ]
  },
  {
   "cell_type": "code",
   "execution_count": 34,
   "metadata": {
    "collapsed": true
   },
   "outputs": [],
   "source": [
    "from __future__ import division"
   ]
  },
  {
   "cell_type": "code",
   "execution_count": 35,
   "metadata": {
    "collapsed": false
   },
   "outputs": [],
   "source": [
    "class Estimator():\n",
    "\n",
    "    def __init__(self, ninputs, nhidden, nactions):\n",
    "        \"\"\" Create model matrices, and gradient and squared gradient buffers\"\"\"\n",
    "        model = {}\n",
    "        model['W1'] = np.random.randn(nhidden, ninputs) / np.sqrt(ninputs)   # \"Xavier\" initialization\n",
    "        model['W2'] = np.random.randn(nactions, nhidden) / np.sqrt(nhidden)\n",
    "        self.model = model\n",
    "        self.grad = { k : np.zeros_like(v) for k,v in model.iteritems() }\n",
    "        self.gradsq = { k : np.zeros_like(v) for k,v in model.iteritems() }   \n",
    "        \n",
    "\n",
    "    def forward(self, s):\n",
    "        \"\"\" Run the model forward given a state as input.\n",
    "    returns action predictions and the hidden state\"\"\"\n",
    "        h = np.dot(self.model['W1'], s) # nhidden x npars\n",
    "        h[h<0] = 0 # ReLU nonlinearity # nhidden x npars\n",
    "        rew = np.dot(self.model['W2'], h) # nactions, npars\n",
    "        #print(type(rew))\n",
    "        return rew, h\n",
    "    \n",
    "    \n",
    "    def predict(self, s):\n",
    "        \"\"\" Predict the action rewards from a given input state\"\"\"\n",
    "        rew, h = self.forward(s)\n",
    "        return rew, h\n",
    "    \n",
    "              \n",
    "    def gradient(self, s, a, y):\n",
    "        \"\"\" Given a state s, action a and target y, compute the model gradients\"\"\"\n",
    "    ##################################################################################\n",
    "    ##                                                                              ##\n",
    "    ## TODO: Compute gradients and return a scalar loss on a minibatch of size npar ##\n",
    "    ##    s is the input state matrix (ninputs x npar).                             ##\n",
    "    ##    a is an action vector (npar,).                                            ##\n",
    "    ##    y is a vector of target values (npar,) corresponding to those actions.    ##\n",
    "    ##    return: the loss per sample (npar,).                                      ##                          \n",
    "    ##                                                                              ##\n",
    "    ## Notes:                                                                       ##\n",
    "    ##    * If the action is ai in [0,...,nactions-1], backprop only through the    ##\n",
    "    ##      ai'th output.                                                           ##\n",
    "    ##    * loss should be L2, and we recommend you normalize it to a per-input     ##\n",
    "    ##      value, i.e. return L2(target,predition)/sqrt(npar).                     ##\n",
    "    ##    * save the gradients in self.grad['W1'] and self.grad['W2'].              ##\n",
    "    ##    * update self.grad['W1'] and self.grad['W2'] by adding the gradients, so  ##\n",
    "    ##      that multiple gradient steps can be used beteween updates.              ##\n",
    "    ##                                                                              ##\n",
    "    ##################################################################################\n",
    "        ninputs, npar = s.shape\n",
    "        prediction, h = self.forward(s)\n",
    "        loss = 0.0\n",
    "        \n",
    "        diffs = np.zeros(npar)\n",
    "        dW2 = np.zeros_like(self.model['W2'])\n",
    "        dW1 = np.zeros_like(self.model['W1'])\n",
    "        num_hidden = h.shape[0]\n",
    "        \n",
    "        for i in range(npar):\n",
    "            s_i = s[:, i]\n",
    "            a_i = a[i]\n",
    "            h_i = h[:, i]\n",
    "            \n",
    "            pred_i = prediction[a_i, i]\n",
    "            residual = pred_i - y[i]\n",
    "            diffs[i] = residual\n",
    "            dW2[a_i, :] += 2 * residual * h_i\n",
    "            dh = 2 * residual * self.model['W2'][a_i, :]\n",
    "            dh[h_i <= 0] = 0\n",
    "            dW1 += np.outer(dh, s_i)\n",
    "            \n",
    "        loss = np.linalg.norm(diffs, 2)\n",
    "        loss_constant  = 1/(2*loss*np.sqrt(npar))\n",
    "        dW1 *= loss_constant\n",
    "        dW2 *= loss_constant\n",
    "        \n",
    "        self.grad['W1'] = dW1\n",
    "        self.grad['W2'] = dW2\n",
    "        \n",
    "        # Calculating Loss\n",
    "        # Prediction: nactions x npar, h: nhidden x npar\n",
    "        \n",
    "        #prediction, h = self.predict(s) \n",
    "        #nactions, _ = prediction.shape\n",
    "        #predicted_reward = [] \n",
    "        #w2_grads = []\n",
    "        #w1_grads = []\n",
    "        # ----- Lambda Function to determine the positivity of deviation ---- #\n",
    "        #sign_func = lambda a: (a>0) - (a<0)\n",
    "        #self.grad['W1'] = np.zeros_like(self.model['W1'])\n",
    "        #self.grad['W2'] = np.zeros_like(self.model['W2'])\n",
    "        \n",
    "        #dh = np.zeros_like(h)\n",
    "        #for i in range(npar):\n",
    "        #    sign = sign_func(prediction[a[i],i]-y[i])\n",
    "        #    #print(loss_i.shape)\n",
    "        #    #print(prediction[a[i], i].shape)\n",
    "        #    #print(y[i].shape)\n",
    "        #    loss_i = prediction[a[i], i] - y[i]\n",
    "        #    loss_i = sign*loss_i\n",
    "            \n",
    "        #    #print self.grad['W2'].shape\n",
    "            #print h[i,:].T.shape\n",
    "            \n",
    "            #print(dh[:,i].shape, self.model['W2'].shape, self.model['W2'][a[i],:].shape)\n",
    "            #print(sign.shape)\n",
    "        #    self.grad['W2'][a[i], :] += sign*h[:, i].T\n",
    "        #    dh[:, i] = sign*(self.model['W2'][a[i],:]).T\n",
    "        #    loss += loss_i\n",
    "        \n",
    "        #self.grad['W1'] = np.dot(dh, s.T)\n",
    "            \n",
    "            \n",
    "            \n",
    "            \n",
    "            \n",
    "            \n",
    "            \n",
    "            # For each environment, we are conducting backpropagation\n",
    "            #dscores = np.zeros(nactions)\n",
    "            #dscores[a[i]] = 1\n",
    "            #square_diffs[i] = (prediction[a[i], i] - y[i])**2\n",
    "            #one_hot = np.zeros(nactions)\n",
    "            #one_hot[a[i]] = 2*(prediction[a[i], i] - y[i]) # nactions x 1\n",
    "            #tmp = np.zeros_like(self.model['W2'])\n",
    "            #tmp[a[i],:] = h[:, i]*one_hot[a[i]]\n",
    "            #w2_grads.append(tmp) \n",
    "            \n",
    "            #dhidden = np.dot(dscores, self.model['W2']).T # nhidden x 1\n",
    "            #dhidden[h[:, i] <= 0] = 0 # RELU backprop\n",
    "            \n",
    "            # On W1\n",
    "            #tmp_2 = np.zeros_like(self.model['W1'])\n",
    "            #tmp_2 = np.dot(dhidden, )\n",
    "            # \n",
    "            \n",
    "            \n",
    "        #for i in range(npar):\n",
    "        #    predicted_reward.append(prediction[a[i],i])\n",
    "        #    loss_obs.append(np.sqrt((prediction[a[i], i] - y[i])**2))\n",
    "            \n",
    "        #predicted_reward = np.array(predicted_reward) ### \n",
    "        #loss_obs = np.array(loss_obs)\n",
    "        #tmp_loss = np.linalg.norm(loss_obs)\n",
    "        #loss = tmp_loss/(np.sqrt(npar))\n",
    "        ###### dscroes as the one hot encoding \n",
    "        #dscores = np.zeros_like(prediction)\n",
    "        \n",
    "        # Updating Gradients\n",
    "        #for i in range(npar):\n",
    "        #    dscores[a[i], i] = 1\n",
    "        #    action = a[i]\n",
    "        #    self.grad['W2'][action,:] += h[:,i].T\n",
    "        \n",
    "        #self.grad['W2'] = self.grad['W2']/(2*tmp_loss*np.sqrt(npar))\n",
    "        \n",
    "        \n",
    "        \n",
    "        #for i in range(npar):\n",
    "        #    action = a[i]\n",
    "        #    self.grad['W1'] += (1/np.sqrt())\n",
    "        \n",
    "        \n",
    "        \n",
    "        #self.model['W1'] -= learning_rate*self.grad['W1']\n",
    "        #self.model['W2'] -= learning_rate*self.grad['W2']\n",
    "        \n",
    "        return loss\n",
    "    \n",
    "    \n",
    "    def rmsprop(self, learning_rate, decay_rate): \n",
    "        \"\"\" Perform model updates from the gradients using RMSprop\"\"\"\n",
    "        for k in self.model:\n",
    "            g = self.grad[k]\n",
    "            self.gradsq[k] = decay_rate * self.gradsq[k] + (1 - decay_rate) * g*g\n",
    "            self.model[k] -= learning_rate * g / (np.sqrt(self.gradsq[k]) + 1e-5)\n",
    "            self.grad[k].fill(0.0)"
   ]
  },
  {
   "cell_type": "markdown",
   "metadata": {},
   "source": [
    "## 2. Implement $\\epsilon$-Greedy Policy\n",
    "\n",
    "An $\\epsilon$-Greedy policy should:\n",
    "* with probability $\\epsilon$ take a uniformly-random action.\n",
    "* otherwise choose the best action according to the estimator from the given state.\n",
    "\n",
    "The function below should implement this policy. It should return a matrix A of size (nactions, npar) such that A[i,j] is the probability of taking action i on input j. The probabilities of non-optimal actions should be $\\epsilon/{\\rm nactions}$ and the probability of the best action should be $1-\\epsilon+\\epsilon/{\\rm nactions}$.\n",
    "\n",
    "Since the function processes batches of states, the input <code>state</code> is a <code>ninputs x npar</code> matrix, and the returned value should be a <code>nactions x npar</code> matrix. "
   ]
  },
  {
   "cell_type": "code",
   "execution_count": 36,
   "metadata": {
    "collapsed": true
   },
   "outputs": [],
   "source": [
    "def policy(estimator, state, epsilon):\n",
    "    \"\"\" Take an estimator and state and predict the best action.\n",
    "    For each input state, return a vector of action probabilities according to an epsilon-greedy policy\"\"\"\n",
    "    ##################################################################################\n",
    "    ##                                                                              ##\n",
    "    ## TODO: Implement an epsilon-greedy policy                                     ##\n",
    "    ##       estimator: is the estimator to use (instance of Estimator)             ##\n",
    "    ##       state is an (ninputs x npar) state matrix                              ##\n",
    "    ##       epsilon is the scalar policy parameter                                 ##\n",
    "    ## return: an (nactions x npar) matrix A where A[i,j] is the probability of     ##\n",
    "    ##       taking action i on input j.                                            ##\n",
    "    ##                                                                              ##\n",
    "    ## Use the definition of epsilon-greedy from the cell above.                    ##\n",
    "    ##                                                                              ##\n",
    "    ##################################################################################\n",
    "    act_val, h = estimator.predict(state) # act_val: naction x npar\n",
    "    #print(act_val)\n",
    "    #print(act_val.shape)\n",
    "    nactions, npar = act_val.shape\n",
    "    opt_action = np.argmax(act_val, axis=0)\n",
    "    #print(opt_action)\n",
    "    A = np.zeros((nactions, npar)) \n",
    "    A += epsilon/nactions # the exploration part\n",
    "    for i in range(npar):\n",
    "        #print(i)\n",
    "        A[opt_action[i], i] = 1 - epsilon + (epsilon/nactions)\n",
    "    return A"
   ]
  },
  {
   "cell_type": "code",
   "execution_count": 37,
   "metadata": {
    "collapsed": false
   },
   "outputs": [
    {
     "data": {
      "text/plain": [
       "array([[ 0.05,  0.05,  0.05,  0.05,  0.05,  0.05,  0.05,  0.05,  0.05,\n",
       "         0.05,  0.05,  0.05,  0.05,  0.05,  0.05,  0.05],\n",
       "       [ 0.95,  0.95,  0.95,  0.95,  0.95,  0.95,  0.95,  0.95,  0.95,\n",
       "         0.95,  0.95,  0.95,  0.95,  0.95,  0.95,  0.95]])"
      ]
     },
     "execution_count": 37,
     "metadata": {},
     "output_type": "execute_result"
    }
   ],
   "source": [
    "state = np.random.random((nfeats*nwindow, npar))\n",
    "q_estimator1 = Estimator(nfeats*nwindow, nhidden, nactions)\n",
    "policy(q_estimator1, state, 0.1)"
   ]
  },
  {
   "cell_type": "code",
   "execution_count": 38,
   "metadata": {
    "collapsed": false
   },
   "outputs": [
    {
     "data": {
      "text/plain": [
       "(10, 16)"
      ]
     },
     "execution_count": 38,
     "metadata": {},
     "output_type": "execute_result"
    }
   ],
   "source": [
    "state.shape"
   ]
  },
  {
   "cell_type": "markdown",
   "metadata": {},
   "source": [
    "This routine copies the state of one estimator into another. Its used to update the target estimator from the Q-estimator."
   ]
  },
  {
   "cell_type": "code",
   "execution_count": 39,
   "metadata": {
    "collapsed": false
   },
   "outputs": [],
   "source": [
    "def update_estimator(to_estimator, from_estimator, window, istep):\n",
    "    \"\"\" every <window> steps, Copy model state from from_estimator into to_estimator\"\"\"\n",
    "    if (istep % window == 0):\n",
    "        for k in from_estimator.model:\n",
    "            np.copyto(to_estimator.model[k], from_estimator.model[k])"
   ]
  },
  {
   "cell_type": "markdown",
   "metadata": {},
   "source": [
    "## 3. Implement \"Asynchronous Threads\"\n",
    "\n",
    "Don't try that in Python!! Actually all we do here is create an array of environments and advance each one a random number of steps, using random actions at each step. Later on we will make *synchronous* updates to all the environments, but the environments (and their gradient updates) should remain uncorrelated. This serves the same goal as asynchronous updates in paper [2], or experience replay in paper [1]."
   ]
  },
  {
   "cell_type": "code",
   "execution_count": 59,
   "metadata": {
    "collapsed": true
   },
   "outputs": [],
   "source": [
    "import random"
   ]
  },
  {
   "cell_type": "code",
   "execution_count": 60,
   "metadata": {
    "collapsed": false
   },
   "outputs": [],
   "source": [
    "block_reward = np.zeros((16), dtype=float);\n",
    "total_epochs = np.zeros((16), dtype=float);"
   ]
  },
  {
   "cell_type": "code",
   "execution_count": 61,
   "metadata": {
    "collapsed": false
   },
   "outputs": [
    {
     "data": {
      "text/plain": [
       "0.0"
      ]
     },
     "execution_count": 61,
     "metadata": {},
     "output_type": "execute_result"
    }
   ],
   "source": [
    "block_reward[0]"
   ]
  },
  {
   "cell_type": "code",
   "execution_count": 62,
   "metadata": {
    "collapsed": false
   },
   "outputs": [
    {
     "name": "stdout",
     "output_type": "stream",
     "text": [
      "(16,) (16,)\n"
     ]
    }
   ],
   "source": [
    "print block_reward.shape, total_epochs.shape"
   ]
  },
  {
   "cell_type": "code",
   "execution_count": 63,
   "metadata": {
    "collapsed": false
   },
   "outputs": [],
   "source": [
    "# Create estimators\n",
    "q_estimator = Estimator(nfeats*nwindow, nhidden, nactions)\n",
    "target_estimator = Estimator(nfeats*nwindow, nhidden, nactions)\n",
    "\n",
    "# The epsilon and learning rate decay schedules\n",
    "epsilons = np.linspace(epsilon_start, epsilon_end, neps)\n",
    "learning_rates = np.linspace(learning_rate, lr_end, nlr)\n",
    "\n"
   ]
  },
  {
   "cell_type": "code",
   "execution_count": 64,
   "metadata": {
    "collapsed": false
   },
   "outputs": [
    {
     "data": {
      "text/plain": [
       "10"
      ]
     },
     "execution_count": 64,
     "metadata": {},
     "output_type": "execute_result"
    }
   ],
   "source": [
    "nfeats * nwindow"
   ]
  },
  {
   "cell_type": "code",
   "execution_count": 65,
   "metadata": {
    "collapsed": false
   },
   "outputs": [
    {
     "data": {
      "text/plain": [
       "(4,)"
      ]
     },
     "execution_count": 65,
     "metadata": {},
     "output_type": "execute_result"
    }
   ],
   "source": [
    "observation_prev = np.zeros((4))\n",
    "observation_prev.shape"
   ]
  },
  {
   "cell_type": "code",
   "execution_count": 66,
   "metadata": {
    "collapsed": false,
    "scrolled": true
   },
   "outputs": [
    {
     "name": "stdout",
     "output_type": "stream",
     "text": [
      "Initializing games...\n"
     ]
    },
    {
     "name": "stderr",
     "output_type": "stream",
     "text": [
      "[2016-11-22 15:26:05,807] Making new env: CartPole-v0\n",
      "[2016-11-22 15:26:05,873] Making new env: CartPole-v0\n",
      "[2016-11-22 15:26:05,929] Making new env: CartPole-v0\n"
     ]
    },
    {
     "name": "stdout",
     "output_type": "stream",
     "text": [
      "('agent', 0)\n",
      "Episode finished after 24 timesteps\n",
      "Episode finished after 38 timesteps\n",
      "Episode finished after 75 timesteps\n",
      "Episode finished after 94 timesteps\n",
      "Episode finished after 108 timesteps\n",
      "Episode finished after 116 timesteps\n",
      "Episode finished after 137 timesteps\n",
      "Episode finished after 159 timesteps\n",
      "Episode finished after 182 timesteps\n",
      "Episode finished after 224 timesteps\n",
      "Episode finished after 236 timesteps\n",
      "Episode finished after 253 timesteps\n",
      "Episode finished after 293 timesteps\n",
      "Episode finished after 311 timesteps\n",
      "Episode finished after 329 timesteps\n",
      "Episode finished after 341 timesteps\n",
      "Episode finished after 377 timesteps\n",
      "Episode finished after 418 timesteps\n",
      "Episode finished after 431 timesteps\n",
      "Episode finished after 449 timesteps\n",
      "Episode finished after 470 timesteps\n",
      "Episode finished after 481 timesteps\n",
      "Episode finished after 505 timesteps\n",
      "Episode finished after 521 timesteps\n",
      "Episode finished after 584 timesteps\n",
      "Episode finished after 615 timesteps\n",
      "Episode finished after 663 timesteps\n",
      "Episode finished after 675 timesteps\n",
      "Episode finished after 696 timesteps\n",
      "Episode finished after 721 timesteps\n",
      "Episode finished after 746 timesteps\n",
      "Episode finished after 778 timesteps\n",
      "Episode finished after 795 timesteps\n",
      "Episode finished after 806 timesteps\n",
      "Episode finished after 821 timesteps\n",
      "Episode finished after 852 timesteps\n",
      "Episode finished after 900 timesteps\n",
      "Episode finished after 911 timesteps\n",
      "Episode finished after 925 timesteps\n",
      "Episode finished after 941 timesteps\n",
      "Episode finished after 961 timesteps\n",
      "Episode finished after 989 timesteps\n",
      "Episode finished after 1014 timesteps\n",
      "Episode finished after 1031 timesteps\n",
      "Episode finished after 1052 timesteps\n",
      "Episode finished after 1067 timesteps\n",
      "Episode finished after 1079 timesteps\n",
      "Episode finished after 1109 timesteps\n",
      "Episode finished after 1132 timesteps\n",
      "Episode finished after 1146 timesteps\n",
      "Episode finished after 1163 timesteps\n",
      "Episode finished after 1181 timesteps\n",
      "Episode finished after 1191 timesteps\n",
      "Episode finished after 1207 timesteps\n",
      "Episode finished after 1223 timesteps\n",
      "Episode finished after 1245 timesteps\n",
      "Episode finished after 1274 timesteps\n",
      "Episode finished after 1333 timesteps\n",
      "Episode finished after 1356 timesteps\n",
      "('agent', 1)\n",
      "Episode finished after 11 timesteps\n",
      "Episode finished after 52 timesteps\n",
      "Episode finished after 74 timesteps\n",
      "Episode finished after 95 timesteps\n",
      "Episode finished after 112 timesteps\n",
      "Episode finished after 128 timesteps\n",
      "Episode finished after 156 timesteps\n",
      "Episode finished after 188 timesteps\n",
      "Episode finished after 254 timesteps\n",
      "Episode finished after 276 timesteps\n",
      "Episode finished after 288 timesteps\n",
      "Episode finished after 301 timesteps\n",
      "Episode finished after 342 timesteps\n",
      "Episode finished after 358 timesteps\n",
      "Episode finished after 371 timesteps\n",
      "Episode finished after 394 timesteps\n",
      "Episode finished after 420 timesteps\n",
      "Episode finished after 456 timesteps\n",
      "Episode finished after 472 timesteps\n",
      "Episode finished after 487 timesteps\n",
      "Episode finished after 513 timesteps\n",
      "Episode finished after 527 timesteps\n",
      "Episode finished after 542 timesteps\n",
      "Episode finished after 565 timesteps\n",
      "Episode finished after 579 timesteps\n",
      "Episode finished after 602 timesteps\n",
      "Episode finished after 627 timesteps\n",
      "Episode finished after 642 timesteps\n",
      "Episode finished after 728 timesteps\n",
      "Episode finished after 747 timesteps\n",
      "Episode finished after 765 timesteps\n",
      "Episode finished after 788 timesteps\n",
      "Episode finished after 808 timesteps\n",
      "Episode finished after 818 timesteps\n",
      "Episode finished after 839 timesteps\n",
      "Episode finished after 881 timesteps\n",
      "Episode finished after 909 timesteps\n",
      "Episode finished after 923 timesteps\n",
      "('agent', 2)\n",
      "Episode finished after 18 timesteps\n",
      "Episode finished after 38 timesteps\n",
      "Episode finished after 56 timesteps\n",
      "Episode finished after 73 timesteps\n",
      "Episode finished after 82 timesteps\n",
      "Episode finished after 101 timesteps\n",
      "Episode finished after 119 timesteps\n",
      "Episode finished after 155 timesteps\n",
      "Episode finished after 175 timesteps\n",
      "Episode finished after 191 timesteps\n",
      "Episode finished after 202 timesteps\n",
      "Episode finished after 230 timesteps\n",
      "Episode finished after 330 timesteps\n",
      "Episode finished after 346 timesteps\n",
      "Episode finished after 392 timesteps\n",
      "Episode finished after 414 timesteps\n",
      "Episode finished after 433 timesteps\n",
      "Episode finished after 461 timesteps\n",
      "Episode finished after 528 timesteps\n",
      "Episode finished after 561 timesteps\n",
      "Episode finished after 585 timesteps\n",
      "Episode finished after 602 timesteps\n",
      "Episode finished after 638 timesteps\n",
      "Episode finished after 660 timesteps\n",
      "Episode finished after 672 timesteps\n",
      "Episode finished after 730 timesteps\n",
      "Episode finished after 749 timesteps\n",
      "Episode finished after 773 timesteps\n",
      "Episode finished after 786 timesteps\n",
      "Episode finished after 800 timesteps\n",
      "Episode finished after 830 timesteps\n",
      "Episode finished after 855 timesteps\n",
      "Episode finished after 876 timesteps\n",
      "Episode finished after 899 timesteps\n",
      "Episode finished after 922 timesteps\n",
      "Episode finished after 952 timesteps\n",
      "Episode finished after 975 timesteps\n",
      "Episode finished after 987 timesteps\n",
      "Episode finished after 1008 timesteps\n",
      "Episode finished after 1036 timesteps\n",
      "Episode finished after 1068 timesteps\n",
      "Episode finished after 1083 timesteps\n",
      "Episode finished after 1111 timesteps\n",
      "Episode finished after 1123 timesteps\n",
      "Episode finished after 1140 timesteps\n",
      "Episode finished after 1195 timesteps\n"
     ]
    },
    {
     "name": "stderr",
     "output_type": "stream",
     "text": [
      "[2016-11-22 15:26:06,007] Making new env: CartPole-v0\n"
     ]
    },
    {
     "name": "stdout",
     "output_type": "stream",
     "text": [
      "Episode finished after 1232 timesteps\n",
      "Episode finished after 1264 timesteps\n",
      "Episode finished after 1276 timesteps\n",
      "Episode finished after 1303 timesteps\n",
      "Episode finished after 1336 timesteps\n",
      "Episode finished after 1360 timesteps\n",
      "Episode finished after 1384 timesteps\n",
      "Episode finished after 1404 timesteps\n",
      "Episode finished after 1438 timesteps\n",
      "Episode finished after 1448 timesteps\n",
      "('agent', 3)\n"
     ]
    },
    {
     "name": "stderr",
     "output_type": "stream",
     "text": [
      "[2016-11-22 15:26:06,066] Making new env: CartPole-v0\n",
      "[2016-11-22 15:26:06,084] Making new env: CartPole-v0\n",
      "[2016-11-22 15:26:06,115] Making new env: CartPole-v0\n",
      "[2016-11-22 15:26:06,142] Making new env: CartPole-v0\n",
      "[2016-11-22 15:26:06,174] Making new env: CartPole-v0\n",
      "[2016-11-22 15:26:06,192] Making new env: CartPole-v0\n"
     ]
    },
    {
     "name": "stdout",
     "output_type": "stream",
     "text": [
      "Episode finished after 17 timesteps\n",
      "Episode finished after 27 timesteps\n",
      "Episode finished after 59 timesteps\n",
      "Episode finished after 87 timesteps\n",
      "Episode finished after 120 timesteps\n",
      "Episode finished after 145 timesteps\n",
      "Episode finished after 159 timesteps\n",
      "Episode finished after 173 timesteps\n",
      "Episode finished after 189 timesteps\n",
      "Episode finished after 205 timesteps\n",
      "Episode finished after 260 timesteps\n",
      "Episode finished after 282 timesteps\n",
      "Episode finished after 308 timesteps\n",
      "Episode finished after 338 timesteps\n",
      "Episode finished after 365 timesteps\n",
      "Episode finished after 380 timesteps\n",
      "Episode finished after 396 timesteps\n",
      "Episode finished after 415 timesteps\n",
      "Episode finished after 452 timesteps\n",
      "Episode finished after 466 timesteps\n",
      "Episode finished after 488 timesteps\n",
      "Episode finished after 504 timesteps\n",
      "Episode finished after 522 timesteps\n",
      "Episode finished after 537 timesteps\n",
      "Episode finished after 561 timesteps\n",
      "Episode finished after 592 timesteps\n",
      "Episode finished after 606 timesteps\n",
      "Episode finished after 618 timesteps\n",
      "Episode finished after 640 timesteps\n",
      "Episode finished after 658 timesteps\n",
      "Episode finished after 676 timesteps\n",
      "Episode finished after 691 timesteps\n",
      "Episode finished after 731 timesteps\n",
      "Episode finished after 742 timesteps\n",
      "Episode finished after 755 timesteps\n",
      "Episode finished after 781 timesteps\n",
      "Episode finished after 798 timesteps\n",
      "Episode finished after 825 timesteps\n",
      "Episode finished after 839 timesteps\n",
      "Episode finished after 853 timesteps\n",
      "Episode finished after 909 timesteps\n",
      "Episode finished after 962 timesteps\n",
      "Episode finished after 988 timesteps\n",
      "Episode finished after 1018 timesteps\n",
      "Episode finished after 1035 timesteps\n",
      "Episode finished after 1046 timesteps\n",
      "Episode finished after 1059 timesteps\n",
      "Episode finished after 1090 timesteps\n",
      "Episode finished after 1100 timesteps\n",
      "Episode finished after 1113 timesteps\n",
      "Episode finished after 1151 timesteps\n",
      "Episode finished after 1166 timesteps\n",
      "Episode finished after 1181 timesteps\n",
      "Episode finished after 1196 timesteps\n",
      "Episode finished after 1210 timesteps\n",
      "Episode finished after 1228 timesteps\n",
      "Episode finished after 1281 timesteps\n",
      "Episode finished after 1307 timesteps\n",
      "Episode finished after 1324 timesteps\n",
      "Episode finished after 1341 timesteps\n",
      "Episode finished after 1371 timesteps\n",
      "Episode finished after 1396 timesteps\n",
      "Episode finished after 1407 timesteps\n",
      "Episode finished after 1435 timesteps\n",
      "Episode finished after 1465 timesteps\n",
      "Episode finished after 1486 timesteps\n",
      "Episode finished after 1511 timesteps\n",
      "Episode finished after 1554 timesteps\n",
      "Episode finished after 1585 timesteps\n",
      "Episode finished after 1616 timesteps\n",
      "Episode finished after 1625 timesteps\n",
      "Episode finished after 1635 timesteps\n",
      "Episode finished after 1646 timesteps\n",
      "Episode finished after 1662 timesteps\n",
      "Episode finished after 1673 timesteps\n",
      "Episode finished after 1689 timesteps\n",
      "('agent', 4)\n",
      "Episode finished after 27 timesteps\n",
      "Episode finished after 42 timesteps\n",
      "Episode finished after 51 timesteps\n",
      "Episode finished after 71 timesteps\n",
      "Episode finished after 90 timesteps\n",
      "Episode finished after 103 timesteps\n",
      "Episode finished after 136 timesteps\n",
      "Episode finished after 149 timesteps\n",
      "Episode finished after 171 timesteps\n",
      "Episode finished after 180 timesteps\n",
      "Episode finished after 201 timesteps\n",
      "Episode finished after 212 timesteps\n",
      "Episode finished after 224 timesteps\n",
      "Episode finished after 241 timesteps\n",
      "Episode finished after 255 timesteps\n",
      "Episode finished after 294 timesteps\n",
      "Episode finished after 315 timesteps\n",
      "('agent', 5)\n",
      "Episode finished after 17 timesteps\n",
      "Episode finished after 34 timesteps\n",
      "Episode finished after 56 timesteps\n",
      "Episode finished after 93 timesteps\n",
      "Episode finished after 106 timesteps\n",
      "Episode finished after 126 timesteps\n",
      "Episode finished after 137 timesteps\n",
      "Episode finished after 148 timesteps\n",
      "Episode finished after 160 timesteps\n",
      "Episode finished after 172 timesteps\n",
      "Episode finished after 220 timesteps\n",
      "Episode finished after 241 timesteps\n",
      "Episode finished after 257 timesteps\n",
      "Episode finished after 271 timesteps\n",
      "Episode finished after 288 timesteps\n",
      "Episode finished after 307 timesteps\n",
      "('agent', 6)\n",
      "Episode finished after 21 timesteps\n",
      "Episode finished after 41 timesteps\n",
      "Episode finished after 69 timesteps\n",
      "Episode finished after 107 timesteps\n",
      "Episode finished after 128 timesteps\n",
      "Episode finished after 159 timesteps\n",
      "Episode finished after 178 timesteps\n",
      "Episode finished after 202 timesteps\n",
      "Episode finished after 217 timesteps\n",
      "Episode finished after 226 timesteps\n",
      "Episode finished after 251 timesteps\n",
      "Episode finished after 285 timesteps\n",
      "Episode finished after 311 timesteps\n",
      "Episode finished after 330 timesteps\n",
      "('agent', 7)\n",
      "Episode finished after 25 timesteps\n",
      "Episode finished after 42 timesteps\n",
      "Episode finished after 69 timesteps\n",
      "Episode finished after 102 timesteps\n",
      "Episode finished after 123 timesteps\n",
      "Episode finished after 136 timesteps\n",
      "Episode finished after 156 timesteps\n",
      "Episode finished after 179 timesteps\n",
      "Episode finished after 195 timesteps\n",
      "Episode finished after 207 timesteps\n",
      "Episode finished after 221 timesteps\n",
      "Episode finished after 247 timesteps\n",
      "Episode finished after 266 timesteps\n",
      "Episode finished after 285 timesteps\n",
      "Episode finished after 321 timesteps\n",
      "Episode finished after 335 timesteps\n",
      "Episode finished after 352 timesteps\n",
      "Episode finished after 386 timesteps\n",
      "Episode finished after 402 timesteps\n",
      "Episode finished after 412 timesteps\n",
      "Episode finished after 427 timesteps\n",
      "Episode finished after 472 timesteps\n",
      "Episode finished after 491 timesteps\n",
      "Episode finished after 507 timesteps\n",
      "Episode finished after 529 timesteps\n",
      "Episode finished after 545 timesteps\n",
      "Episode finished after 562 timesteps\n",
      "Episode finished after 581 timesteps\n",
      "Episode finished after 592 timesteps\n",
      "Episode finished after 630 timesteps\n",
      "Episode finished after 640 timesteps\n",
      "Episode finished after 651 timesteps\n",
      "Episode finished after 662 timesteps\n",
      "Episode finished after 698 timesteps\n",
      "Episode finished after 713 timesteps\n",
      "Episode finished after 732 timesteps\n",
      "Episode finished after 781 timesteps\n",
      "Episode finished after 806 timesteps\n",
      "Episode finished after 822 timesteps\n",
      "Episode finished after 836 timesteps\n",
      "Episode finished after 854 timesteps\n",
      "('agent', 8)\n",
      "Episode finished after 32 timesteps\n",
      "Episode finished after 50 timesteps\n",
      "Episode finished after 66 timesteps\n",
      "Episode finished after 86 timesteps\n",
      "Episode finished after 144 timesteps\n",
      "Episode finished after 168 timesteps\n",
      "Episode finished after 186 timesteps\n",
      "Episode finished after 233 timesteps\n",
      "Episode finished after 246 timesteps\n",
      "Episode finished after 264 timesteps\n",
      "Episode finished after 296 timesteps\n",
      "Episode finished after 309 timesteps\n",
      "('agent', 9)\n",
      "Episode finished after 14 timesteps\n",
      "Episode finished after 28 timesteps\n",
      "Episode finished after 62 timesteps\n"
     ]
    },
    {
     "name": "stderr",
     "output_type": "stream",
     "text": [
      "[2016-11-22 15:26:06,219] Making new env: CartPole-v0\n"
     ]
    },
    {
     "name": "stdout",
     "output_type": "stream",
     "text": [
      "Episode finished after 88 timesteps\n",
      "Episode finished after 104 timesteps\n",
      "Episode finished after 114 timesteps\n",
      "Episode finished after 134 timesteps\n",
      "Episode finished after 144 timesteps\n",
      "Episode finished after 158 timesteps\n",
      "Episode finished after 172 timesteps\n",
      "Episode finished after 185 timesteps\n",
      "Episode finished after 216 timesteps\n",
      "Episode finished after 248 timesteps\n",
      "Episode finished after 270 timesteps\n",
      "Episode finished after 286 timesteps\n",
      "Episode finished after 312 timesteps\n",
      "Episode finished after 331 timesteps\n",
      "Episode finished after 346 timesteps\n",
      "Episode finished after 369 timesteps\n",
      "Episode finished after 443 timesteps\n",
      "('agent', 10)\n"
     ]
    },
    {
     "name": "stderr",
     "output_type": "stream",
     "text": [
      "[2016-11-22 15:26:06,233] Making new env: CartPole-v0\n",
      "[2016-11-22 15:26:06,294] Making new env: CartPole-v0\n",
      "[2016-11-22 15:26:06,343] Making new env: CartPole-v0\n",
      "[2016-11-22 15:26:06,394] Making new env: CartPole-v0\n",
      "[2016-11-22 15:26:06,406] Making new env: CartPole-v0\n"
     ]
    },
    {
     "name": "stdout",
     "output_type": "stream",
     "text": [
      "Episode finished after 27 timesteps\n",
      "Episode finished after 42 timesteps\n",
      "Episode finished after 56 timesteps\n",
      "Episode finished after 110 timesteps\n",
      "Episode finished after 131 timesteps\n",
      "Episode finished after 142 timesteps\n",
      "Episode finished after 166 timesteps\n",
      "Episode finished after 184 timesteps\n",
      "Episode finished after 219 timesteps\n",
      "('agent', 11)\n",
      "Episode finished after 37 timesteps\n",
      "Episode finished after 49 timesteps\n",
      "Episode finished after 82 timesteps\n",
      "Episode finished after 121 timesteps\n",
      "Episode finished after 140 timesteps\n",
      "Episode finished after 159 timesteps\n",
      "Episode finished after 184 timesteps\n",
      "Episode finished after 199 timesteps\n",
      "Episode finished after 217 timesteps\n",
      "Episode finished after 252 timesteps\n",
      "Episode finished after 267 timesteps\n",
      "Episode finished after 282 timesteps\n",
      "Episode finished after 291 timesteps\n",
      "Episode finished after 314 timesteps\n",
      "Episode finished after 332 timesteps\n",
      "Episode finished after 348 timesteps\n",
      "Episode finished after 397 timesteps\n",
      "Episode finished after 416 timesteps\n",
      "Episode finished after 435 timesteps\n",
      "Episode finished after 445 timesteps\n",
      "Episode finished after 470 timesteps\n",
      "Episode finished after 485 timesteps\n",
      "Episode finished after 498 timesteps\n",
      "Episode finished after 512 timesteps\n",
      "Episode finished after 539 timesteps\n",
      "Episode finished after 552 timesteps\n",
      "Episode finished after 571 timesteps\n",
      "Episode finished after 581 timesteps\n",
      "Episode finished after 595 timesteps\n",
      "Episode finished after 611 timesteps\n",
      "Episode finished after 633 timesteps\n",
      "Episode finished after 650 timesteps\n",
      "Episode finished after 663 timesteps\n",
      "Episode finished after 688 timesteps\n",
      "Episode finished after 711 timesteps\n",
      "Episode finished after 722 timesteps\n",
      "Episode finished after 750 timesteps\n",
      "Episode finished after 767 timesteps\n",
      "Episode finished after 783 timesteps\n",
      "Episode finished after 794 timesteps\n",
      "Episode finished after 807 timesteps\n",
      "Episode finished after 819 timesteps\n",
      "Episode finished after 875 timesteps\n",
      "Episode finished after 888 timesteps\n",
      "Episode finished after 919 timesteps\n",
      "Episode finished after 932 timesteps\n",
      "Episode finished after 955 timesteps\n",
      "Episode finished after 983 timesteps\n",
      "Episode finished after 1000 timesteps\n",
      "Episode finished after 1051 timesteps\n",
      "Episode finished after 1079 timesteps\n",
      "Episode finished after 1096 timesteps\n",
      "Episode finished after 1107 timesteps\n",
      "Episode finished after 1128 timesteps\n",
      "Episode finished after 1167 timesteps\n",
      "Episode finished after 1195 timesteps\n",
      "Episode finished after 1215 timesteps\n",
      "Episode finished after 1238 timesteps\n",
      "Episode finished after 1254 timesteps\n",
      "Episode finished after 1277 timesteps\n",
      "Episode finished after 1305 timesteps\n",
      "Episode finished after 1339 timesteps\n",
      "Episode finished after 1365 timesteps\n",
      "Episode finished after 1402 timesteps\n",
      "Episode finished after 1422 timesteps\n",
      "Episode finished after 1442 timesteps\n",
      "Episode finished after 1471 timesteps\n",
      "Episode finished after 1482 timesteps\n",
      "Episode finished after 1504 timesteps\n",
      "Episode finished after 1525 timesteps\n",
      "Episode finished after 1536 timesteps\n",
      "Episode finished after 1550 timesteps\n",
      "Episode finished after 1564 timesteps\n",
      "Episode finished after 1585 timesteps\n",
      "Episode finished after 1603 timesteps\n",
      "Episode finished after 1623 timesteps\n",
      "Episode finished after 1649 timesteps\n",
      "Episode finished after 1667 timesteps\n",
      "Episode finished after 1684 timesteps\n",
      "Episode finished after 1696 timesteps\n",
      "Episode finished after 1756 timesteps\n",
      "Episode finished after 1790 timesteps\n",
      "Episode finished after 1807 timesteps\n",
      "Episode finished after 1829 timesteps\n",
      "Episode finished after 1838 timesteps\n",
      "Episode finished after 1856 timesteps\n",
      "Episode finished after 1875 timesteps\n",
      "Episode finished after 1893 timesteps\n",
      "('agent', 12)\n",
      "Episode finished after 40 timesteps\n",
      "Episode finished after 62 timesteps\n",
      "Episode finished after 78 timesteps\n",
      "Episode finished after 89 timesteps\n",
      "Episode finished after 114 timesteps\n",
      "Episode finished after 123 timesteps\n",
      "Episode finished after 165 timesteps\n",
      "Episode finished after 178 timesteps\n",
      "Episode finished after 196 timesteps\n",
      "Episode finished after 206 timesteps\n",
      "Episode finished after 218 timesteps\n",
      "Episode finished after 228 timesteps\n",
      "Episode finished after 259 timesteps\n",
      "Episode finished after 288 timesteps\n",
      "Episode finished after 300 timesteps\n",
      "Episode finished after 316 timesteps\n",
      "Episode finished after 338 timesteps\n",
      "Episode finished after 351 timesteps\n",
      "Episode finished after 359 timesteps\n",
      "Episode finished after 378 timesteps\n",
      "Episode finished after 393 timesteps\n",
      "Episode finished after 416 timesteps\n",
      "Episode finished after 433 timesteps\n",
      "Episode finished after 449 timesteps\n",
      "Episode finished after 470 timesteps\n",
      "Episode finished after 513 timesteps\n",
      "Episode finished after 530 timesteps\n",
      "Episode finished after 543 timesteps\n",
      "Episode finished after 561 timesteps\n",
      "Episode finished after 575 timesteps\n",
      "Episode finished after 596 timesteps\n",
      "Episode finished after 617 timesteps\n",
      "Episode finished after 670 timesteps\n",
      "Episode finished after 696 timesteps\n",
      "Episode finished after 713 timesteps\n",
      "Episode finished after 749 timesteps\n",
      "Episode finished after 779 timesteps\n",
      "Episode finished after 792 timesteps\n",
      "Episode finished after 820 timesteps\n",
      "Episode finished after 835 timesteps\n",
      "Episode finished after 882 timesteps\n",
      "('agent', 13)\n",
      "Episode finished after 30 timesteps\n",
      "Episode finished after 54 timesteps\n",
      "Episode finished after 68 timesteps\n",
      "Episode finished after 82 timesteps\n",
      "Episode finished after 155 timesteps\n",
      "Episode finished after 175 timesteps\n",
      "Episode finished after 201 timesteps\n",
      "Episode finished after 247 timesteps\n",
      "Episode finished after 260 timesteps\n",
      "Episode finished after 279 timesteps\n",
      "Episode finished after 348 timesteps\n",
      "Episode finished after 360 timesteps\n",
      "Episode finished after 390 timesteps\n",
      "Episode finished after 403 timesteps\n",
      "Episode finished after 415 timesteps\n",
      "Episode finished after 441 timesteps\n",
      "Episode finished after 454 timesteps\n",
      "Episode finished after 467 timesteps\n",
      "Episode finished after 477 timesteps\n",
      "Episode finished after 503 timesteps\n",
      "Episode finished after 522 timesteps\n",
      "Episode finished after 559 timesteps\n",
      "Episode finished after 584 timesteps\n",
      "Episode finished after 598 timesteps\n",
      "Episode finished after 614 timesteps\n",
      "Episode finished after 640 timesteps\n",
      "Episode finished after 688 timesteps\n",
      "Episode finished after 703 timesteps\n",
      "Episode finished after 721 timesteps\n",
      "Episode finished after 731 timesteps\n",
      "Episode finished after 747 timesteps\n",
      "Episode finished after 783 timesteps\n",
      "Episode finished after 794 timesteps\n",
      "Episode finished after 821 timesteps\n",
      "Episode finished after 856 timesteps\n",
      "Episode finished after 868 timesteps\n",
      "Episode finished after 881 timesteps\n",
      "Episode finished after 911 timesteps\n",
      "Episode finished after 943 timesteps\n",
      "Episode finished after 956 timesteps\n",
      "Episode finished after 965 timesteps\n",
      "Episode finished after 1009 timesteps\n",
      "Episode finished after 1049 timesteps\n",
      "Episode finished after 1066 timesteps\n",
      "Episode finished after 1092 timesteps\n",
      "Episode finished after 1123 timesteps\n",
      "('agent', 14)\n",
      "Episode finished after 42 timesteps\n",
      "Episode finished after 60 timesteps\n",
      "Episode finished after 77 timesteps\n",
      "Episode finished after 110 timesteps\n",
      "Episode finished after 139 timesteps\n",
      "Episode finished after 168 timesteps\n",
      "Episode finished after 192 timesteps\n",
      "Episode finished after 223 timesteps\n",
      "Episode finished after 252 timesteps\n",
      "('agent', 15)\n"
     ]
    }
   ],
   "source": [
    "# Initialize the games\n",
    "print(\"Initializing games...\"); sys.stdout.flush()\n",
    "envs = np.empty(npar, dtype=object)\n",
    "state = np.zeros([nfeats * nwindow, npar], dtype=float)\n",
    "rewards = np.zeros([npar], dtype=float)\n",
    "dones = np.empty(npar, dtype=int)\n",
    "actions = np.zeros([npar], dtype=int)\n",
    "\n",
    "\n",
    "for i in range(npar):\n",
    "    print('agent', i)\n",
    "    envs[i] = gym.make(game_type)\n",
    "    ##################################################################################\n",
    "    ##                                                                              ##\n",
    "    ## TODO: Advance each environment by a random number of steps, where the number ##\n",
    "    ##       of steps is sampled uniformly from [nwindow, init_moves].              ##\n",
    "    ##       Use random steps to advance.                                           ## \n",
    "    ##                                                                              ##\n",
    "    ## Update the total reward and total epochs variables as you go.                ##\n",
    "    ## If an environment returns done=True, reset it and increment the epoch count. ##\n",
    "    ##                                                                              ##\n",
    "    ##################################################################################\n",
    "    length_game = random.randint(nwindow, init_moves)\n",
    "    #print(state[:,i].shape)\n",
    "    #print(envs[i].reset().shape)\n",
    "    observation_prev = np.zeros((4)) # initiailzing frame t-2\n",
    "    observation = envs[i].reset()\n",
    "    for t in range(length_game):\n",
    "        #envs[i].render()\n",
    "        actions[i] = envs[i].action_space.sample()\n",
    "        #print(actions[i])\n",
    "        observation_prev = observation\n",
    "        observation, rewards[i], dones[i], _ = envs[i].step(actions[i])\n",
    "        #print(rewards[i])\n",
    "        block_reward[i] += rewards[i]\n",
    "        total_epochs[i] += 1\n",
    "        if dones[i]:\n",
    "            print(\"Episode finished after {} timesteps\".format(t+1))\n",
    "            block_reward[i] = 0.0 # resettig total reward\n",
    "            envs[i].reset()\n",
    "    rewards[i] = block_reward[i]\n",
    "    state[:, i] = np.hstack([observation, float(1), observation_prev, float(1)])\n",
    "    \n",
    "    \n",
    "    \n",
    "    \n",
    "    \n",
    "       "
   ]
  },
  {
   "cell_type": "code",
   "execution_count": 67,
   "metadata": {
    "collapsed": false
   },
   "outputs": [
    {
     "data": {
      "text/plain": [
       "238.0"
      ]
     },
     "execution_count": 67,
     "metadata": {},
     "output_type": "execute_result"
    }
   ],
   "source": [
    "Block_Reward = np.sum(block_reward)\n",
    "Block_Reward"
   ]
  },
  {
   "cell_type": "code",
   "execution_count": 68,
   "metadata": {
    "collapsed": false
   },
   "outputs": [
    {
     "data": {
      "text/plain": [
       "array([ 0.0281013 ,  0.04364803,  0.01359345,  0.07983331,  1.        ,\n",
       "        0.02332086,  0.23902209,  0.01796267, -0.21846124,  1.        ])"
      ]
     },
     "execution_count": 68,
     "metadata": {},
     "output_type": "execute_result"
    }
   ],
   "source": [
    "state[:, 5]"
   ]
  },
  {
   "cell_type": "markdown",
   "metadata": {},
   "source": [
    "## 4. Implement Deep Q-Learning\n",
    "In this cell you actually implement the algorithm. We've given you comments to define all the steps. You should also add book-keeping steps to keep track of the loss, reward and number of epochs (where env.step() returns done = true). "
   ]
  },
  {
   "cell_type": "code",
   "execution_count": 69,
   "metadata": {
    "collapsed": false
   },
   "outputs": [
    {
     "data": {
      "text/plain": [
       "238.0"
      ]
     },
     "execution_count": 69,
     "metadata": {},
     "output_type": "execute_result"
    }
   ],
   "source": [
    "Block_Reward"
   ]
  },
  {
   "cell_type": "code",
   "execution_count": 70,
   "metadata": {
    "collapsed": false,
    "scrolled": true
   },
   "outputs": [
    {
     "name": "stderr",
     "output_type": "stream",
     "text": [
      "/Users/kevinli/anaconda/envs/python2/lib/python2.7/site-packages/ipykernel/__main__.py:38: VisibleDeprecationWarning: using a non-integer number instead of an integer will result in an error in the future\n",
      "/Users/kevinli/anaconda/envs/python2/lib/python2.7/site-packages/ipykernel/__main__.py:39: VisibleDeprecationWarning: using a non-integer number instead of an integer will result in an error in the future\n",
      "/Users/kevinli/anaconda/envs/python2/lib/python2.7/site-packages/ipykernel/__main__.py:63: VisibleDeprecationWarning: using a non-integer number instead of an integer will result in an error in the future\n",
      "/Users/kevinli/anaconda/envs/python2/lib/python2.7/site-packages/ipykernel/__main__.py:66: VisibleDeprecationWarning: using a non-integer number instead of an integer will result in an error in the future\n",
      "/Users/kevinli/anaconda/envs/python2/lib/python2.7/site-packages/ipykernel/__main__.py:67: VisibleDeprecationWarning: using a non-integer number instead of an integer will result in an error in the future\n"
     ]
    },
    {
     "name": "stdout",
     "output_type": "stream",
     "text": [
      "254.795577604\n",
      "(0, 0.006499767303466797, 0.0050643657167562129, 1, 254.79557760350193)\n",
      "14968.6323404\n",
      "(1000, 1.7369089126586914, 5.3247453412277066, 706, 21.232102610491971)\n",
      "14780.2510965\n",
      "(2000, 3.3139448165893555, 5.3147044240936943, 1432, 20.358472584654219)\n",
      "14906.8883656\n",
      "(3000, 4.901048898696899, 5.3251889273941089, 2155, 20.618102857024077)\n",
      "14976.5945418\n",
      "(4000, 6.484121799468994, 5.3413919485395809, 2872, 20.887858496231893)\n",
      "14930.6598047\n",
      "(5000, 8.086442947387695, 5.3450846463736843, 3588, 20.852876822208945)\n",
      "14915.2385604\n",
      "(6000, 9.749340772628784, 5.3276800853961648, 4300, 20.948368764595418)\n",
      "14871.4034129\n",
      "(7000, 12.328884840011597, 5.3234071950534556, 5023, 20.569022701084151)\n",
      "14891.0756494\n",
      "(8000, 14.45424485206604, 5.3203214132485339, 5735, 20.914432091838908)\n",
      "14918.3804301\n",
      "(9000, 16.315497875213623, 5.3405801777488762, 6475, 20.159973554192835)\n",
      "15105.1937632\n",
      "(10000, 18.226042985916138, 5.3553540858810385, 7186, 21.244998260497983)\n"
     ]
    }
   ],
   "source": [
    "t0 = time.time()\n",
    "block_loss = 0.0\n",
    "last_epochs=0\n",
    "Total_Epochs=0\n",
    "#epsilon = 0.2\n",
    "\n",
    "y_actual = np.zeros((npar), dtype=float)\n",
    "a_actual = np.zeros((npar), dtype=float)\n",
    "#print(a_actual)\n",
    "\n",
    "for istep in np.arange(nsteps): \n",
    "    if (render): envs[0].render()\n",
    "  \n",
    "    #########################################################################\n",
    "    ## TODO: Implement Q-Learning                                          ##\n",
    "    ##                                                                     ##\n",
    "    ## At high level, your code should:                                    ##\n",
    "    ## * Update epsilon and learning rate.                                 ##\n",
    "    ## * Update target estimator from Q-estimator if needed.               ##\n",
    "    ## * Get the next action probabilities for the minibatch by running    ##\n",
    "    ##   the policy on the current state with the Q-estimator.             ##\n",
    "    ## * Then for each environment:                                        ##\n",
    "    ##     ** Pick an action according to the action probabilities.        ##\n",
    "    ##     ** Step in the gym with that action.                            ##\n",
    "    ##     ** Process the observation and concat it to the last nwindow-1  ##\n",
    "    ##        processed observations to form a new state.                  ##\n",
    "    ## Then for all environments (vectorized):                             ##\n",
    "    ## * Predict Q-scores for the new state using the target estimator.    ##\n",
    "    ## * Compute new expected rewards using those Q-scores.                ##\n",
    "    ## * Using those expected rewards as a target, compute gradients and   ##\n",
    "    ##   update the Q-estimator.                                           ##\n",
    "    ## * Step to the new state.                                            ##\n",
    "    ##                                                                     ##\n",
    "    #########################################################################\n",
    "    #indx = int(istep/(nsteps/(1.0*neps)))\n",
    "    #epsilon = epsilons[indx]\n",
    "    #lr = learning_rates[indx]\n",
    "    epsilon = epsilons[istep/neps]\n",
    "    lr = learning_rates[istep/nlr]\n",
    "    update_estimator(q_estimator, target_estimator, nwindow, istep)\n",
    "    rew, _ = target_estimator.predict(state)\n",
    "    A = policy(q_estimator, state, epsilon)\n",
    "    for j in range(npar):\n",
    "        # ------- Choosing the action using the Greedy Policy ---------- #\n",
    "        action_prob = A[:, j]\n",
    "        sampling_prob = np.random.uniform()\n",
    "        action = int(sampling_prob > action_prob[0])\n",
    "        #print(action)\n",
    "        #print(a_actual)\n",
    "        a_actual[j] = action\n",
    "        state[5:9, j] = state[0:4, j]\n",
    "        state[0:4, j], rewards[j], dones[j], _ = envs[j].step(action)\n",
    "        \n",
    "        #Total_Epochs += 1\n",
    "        if dones[j]:\n",
    "            rewards[j] = 0\n",
    "            envs[j].reset()\n",
    "            Total_Epochs += 1\n",
    "            y_actual[j] = rewards[j]\n",
    "        else: \n",
    "            y_actual[j] = rewards[j] + discount_factor*np.max(target_estimator.predict(state)[0][:, j])\n",
    "    block_loss += q_estimator.gradient(state, a_actual, y_actual) \n",
    "    q_estimator.rmsprop(lr, decay_rate=decay_rate)    \n",
    "    #Total_Epochs += 1  \n",
    "    Block_Reward += np.sum(y_actual)\n",
    "    #print(rewards)\n",
    "    t = time.time() - t0\n",
    "    if (istep % printsteps == 0):     \n",
    "        #print(\"step {:0d}, time {:.1f}, loss {:.8f}, epochs {:0d}, reward/epoch {:.5f}\".format(\n",
    "        #        istep, t, block_loss/printsteps, total_epochs, Block_Reward/np.maximum(1,total_epochs-last_epochs)))\n",
    "        print(Block_Reward)\n",
    "        print(istep, t, block_loss/printsteps, Total_Epochs, Block_Reward/np.maximum(1,Total_Epochs-last_epochs))\n",
    "        last_epochs = Total_Epochs\n",
    "        Block_Reward = 0.0\n",
    "        block_loss = 0.0"
   ]
  },
  {
   "cell_type": "code",
   "execution_count": 71,
   "metadata": {
    "collapsed": false
   },
   "outputs": [
    {
     "data": {
      "text/plain": [
       "array([ 0.03679053,  0.15376398,  0.00767519, -0.27247831,  1.        ,\n",
       "        0.03761558, -0.04125227,  0.00731745,  0.01788692,  1.        ])"
      ]
     },
     "execution_count": 71,
     "metadata": {},
     "output_type": "execute_result"
    }
   ],
   "source": [
    "i = 5\n",
    "state[:, 5]"
   ]
  },
  {
   "cell_type": "code",
   "execution_count": 23,
   "metadata": {
    "collapsed": false
   },
   "outputs": [
    {
     "data": {
      "text/plain": [
       "array([ 0.10485414,  0.00569417, -0.05278697,  0.07073156])"
      ]
     },
     "execution_count": 23,
     "metadata": {},
     "output_type": "execute_result"
    }
   ],
   "source": [
    "state[5:9, 5]"
   ]
  },
  {
   "cell_type": "markdown",
   "metadata": {},
   "source": [
    "Let's save the model now. "
   ]
  },
  {
   "cell_type": "code",
   "execution_count": 24,
   "metadata": {
    "collapsed": false
   },
   "outputs": [],
   "source": [
    "pickle.dump(q_estimator.model, open(\"cartpole_q_estimator.p\", \"wb\"))\n"
   ]
  },
  {
   "cell_type": "markdown",
   "metadata": {},
   "source": [
    "You can reload the model later if needed:"
   ]
  },
  {
   "cell_type": "code",
   "execution_count": 25,
   "metadata": {
    "collapsed": true
   },
   "outputs": [],
   "source": [
    "test_estimator = Estimator(nfeats*nwindow, nhidden, nactions)\n",
    "test_estimator.model = pickle.load(open(\"cartpole_q_estimator.p\", \"rb\"))"
   ]
  },
  {
   "cell_type": "markdown",
   "metadata": {},
   "source": [
    "And animate the model's performance. "
   ]
  },
  {
   "cell_type": "code",
   "execution_count": 57,
   "metadata": {
    "collapsed": false
   },
   "outputs": [
    {
     "name": "stdout",
     "output_type": "stream",
     "text": [
      "4\n",
      "12\n",
      "21\n",
      "31\n",
      "42\n",
      "51\n",
      "59\n",
      "68\n",
      "77\n",
      "86\n",
      "97\n",
      "107\n",
      "118\n",
      "129\n",
      "141\n",
      "152\n",
      "162\n",
      "174\n",
      "185\n",
      "194\n",
      "203\n",
      "212\n",
      "221\n",
      "230\n",
      "238\n",
      "247\n",
      "257\n",
      "268\n",
      "277\n",
      "287\n",
      "298\n",
      "310\n",
      "322\n",
      "334\n",
      "345\n",
      "354\n",
      "364\n",
      "375\n",
      "385\n",
      "396\n",
      "406\n",
      "415\n",
      "423\n",
      "432\n",
      "441\n",
      "451\n",
      "462\n",
      "471\n",
      "479\n",
      "489\n",
      "499\n",
      "507\n",
      "518\n",
      "530\n",
      "541\n",
      "550\n",
      "560\n",
      "569\n",
      "580\n",
      "588\n",
      "597\n",
      "607\n",
      "619\n",
      "629\n",
      "640\n",
      "653\n",
      "663\n",
      "675\n",
      "686\n",
      "695\n",
      "704\n",
      "713\n",
      "722\n",
      "731\n",
      "741\n",
      "753\n",
      "765\n",
      "775\n",
      "784\n",
      "793\n",
      "803\n",
      "815\n",
      "826\n",
      "836\n",
      "846\n",
      "857\n",
      "867\n",
      "879\n",
      "892\n",
      "903\n",
      "912\n",
      "921\n",
      "931\n",
      "942\n",
      "954\n",
      "965\n",
      "974\n",
      "984\n",
      "995\n",
      "1006\n",
      "1017\n",
      "1027\n",
      "1039\n",
      "1049\n",
      "1058\n",
      "1068\n",
      "1078\n",
      "1087\n",
      "1097\n",
      "1107\n",
      "1119\n",
      "1131\n",
      "1144\n",
      "1155\n",
      "1164\n",
      "1174\n",
      "1186\n",
      "1197\n",
      "1206\n",
      "1216\n",
      "1227\n",
      "1236\n",
      "1245\n",
      "1254\n",
      "1263\n",
      "1276\n",
      "1288\n",
      "1299\n",
      "1308\n",
      "1317\n",
      "1327\n",
      "1339\n",
      "1351\n",
      "1364\n",
      "1374\n",
      "1384\n",
      "1396\n",
      "1407\n",
      "1417\n",
      "1428\n",
      "1441\n",
      "1452\n",
      "1462\n",
      "1474\n",
      "1485\n",
      "1494\n",
      "1502\n",
      "1511\n",
      "1520\n",
      "1529\n",
      "1538\n",
      "1548\n",
      "1560\n",
      "1571\n",
      "1580\n",
      "1590\n",
      "1601\n",
      "1610\n",
      "1620\n",
      "1633\n",
      "1644\n",
      "1652\n",
      "1662\n",
      "1674\n",
      "1685\n",
      "1694\n",
      "1705\n",
      "1714\n",
      "1723\n",
      "1731\n",
      "1740\n",
      "1750\n",
      "1762\n",
      "1774\n",
      "1785\n",
      "1796\n",
      "1804\n",
      "1814\n",
      "1826\n",
      "1836\n",
      "1846\n",
      "1858\n",
      "1869\n",
      "1882\n",
      "1892\n",
      "1901\n",
      "1910\n",
      "1920\n",
      "1932\n",
      "1945\n",
      "1954\n",
      "1963\n",
      "1973\n",
      "1984\n",
      "1992\n"
     ]
    }
   ],
   "source": [
    "state0 = state[:,0]\n",
    "for i in np.arange(2000):\n",
    "    envs[0].render()\n",
    "    preds, _ = test_estimator.predict(state0)\n",
    "    iaction = np.argmax(preds)\n",
    "    obs, _, done0, _ = envs[0].step(VALID_ACTIONS[iaction])\n",
    "    if done0:\n",
    "        print(i)\n",
    "    state0 = np.concatenate((state0[nfeats:], preprocess(obs)))\n",
    "    if (done0): envs[0].reset()\n",
    "    "
   ]
  },
  {
   "cell_type": "markdown",
   "metadata": {},
   "source": [
    "So there we have it. Simple 1-step Q-Learning can solve easy problems very fast. Note that environments that produce images will be much slower to train on than environments (like CartPole) which return an observation of the state of the system. But this model can still train on those image-based games - like Atari games. It will take hours-days however. It you try training on visual environments, we recommend you run the most expensive step - rmsprop - less often (e.g. every 10 iterations). This gives about a 3x speedup. "
   ]
  },
  {
   "cell_type": "markdown",
   "metadata": {
    "collapsed": true
   },
   "source": [
    "## Optional\n",
    "Do **one** of the following tasks:\n",
    "* Adapt the DQN algorithm to another environment - it can use direct state observations.  Call <code>env.get_action_meanings()</code> to find out what actions are allowed. Summarize training performance: your final average reward/epoch, the number of steps required to train, and any modifications to the model or its parameters that you made.\n",
    "* Try smarter schedules for epsilon and learning rate. Rewards for CartPole increase very sharply (several orders of magnitude) with better policies, especially as epsilon --> 0. Gradients will also change drastically, so the initial learning rate is probably not good later on. Try schedules for decreasing epsilon that allow the model to better adapt. Try other learning rate schedules, or setting learning rate based on average reward. \n",
    "* Try a fancier model. e.g. add another hidden layer, or try sigmoid non-linearities."
   ]
  }
 ],
 "metadata": {
  "anaconda-cloud": {},
  "kernelspec": {
   "display_name": "Python [python2]",
   "language": "python",
   "name": "Python [python2]"
  },
  "language_info": {
   "codemirror_mode": {
    "name": "ipython",
    "version": 2
   },
   "file_extension": ".py",
   "mimetype": "text/x-python",
   "name": "python",
   "nbconvert_exporter": "python",
   "pygments_lexer": "ipython2",
   "version": "2.7.12"
  }
 },
 "nbformat": 4,
 "nbformat_minor": 0
}
